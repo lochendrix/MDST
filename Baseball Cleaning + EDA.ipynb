{
 "cells": [
  {
   "cell_type": "code",
   "execution_count": 26,
   "id": "bf2bdae6",
   "metadata": {},
   "outputs": [
    {
     "name": "stdout",
     "output_type": "stream",
     "text": [
      "(1091, 28)\n"
     ]
    },
    {
     "data": {
      "text/plain": [
       "Team\n",
       "Albuquerque      0.277714\n",
       "Buffalo          0.212833\n",
       "Charlotte        0.260571\n",
       "Columbus         0.240474\n",
       "Durham           0.259294\n",
       "El Paso          0.258103\n",
       "Gwinnett         0.234576\n",
       "Indianapolis     0.264700\n",
       "Iowa             0.262030\n",
       "Jacksonville     0.262350\n",
       "Las Vegas        0.253643\n",
       "Lehigh Valley    0.221050\n",
       "Louisville       0.232957\n",
       "Memphis          0.283677\n",
       "Nashville        0.271343\n",
       "Norfolk          0.228756\n",
       "Oklahoma City    0.261870\n",
       "Omaha            0.245437\n",
       "Reno             0.265222\n",
       "Rochester        0.241314\n",
       "Round Rock       0.245686\n",
       "Sacremento       0.241872\n",
       "Salt Lake        0.249361\n",
       "Scranton         0.230552\n",
       "St. Paul         0.227909\n",
       "Sugar Land       0.239259\n",
       "Syracuse         0.244750\n",
       "Tacoma           0.248756\n",
       "Toledo           0.239970\n",
       "Worcester        0.214323\n",
       "Name: BA, dtype: float64"
      ]
     },
     "execution_count": 26,
     "metadata": {},
     "output_type": "execute_result"
    }
   ],
   "source": [
    "import pandas as pd\n",
    "import numpy as np\n",
    "import matplotlib.pyplot as plt\n",
    "import seaborn as sns\n",
    "\n",
    "df = pd.read_csv(r'/Users/lochlanhendrix/desktop/TripleA_DF.csv')\n",
    "print(df.shape)\n",
    "df.isna().sum()\n",
    "#To completely fill in df, 6/1091 rows will be dropped\n",
    "df = df.dropna()\n",
    "df.shape\n",
    "df.groupby(\"Team\")[\"BA\"].mean()"
   ]
  }
 ],
 "metadata": {
  "kernelspec": {
   "display_name": "Python 3",
   "language": "python",
   "name": "python3"
  },
  "language_info": {
   "codemirror_mode": {
    "name": "ipython",
    "version": 3
   },
   "file_extension": ".py",
   "mimetype": "text/x-python",
   "name": "python",
   "nbconvert_exporter": "python",
   "pygments_lexer": "ipython3",
   "version": "3.8.8"
  }
 },
 "nbformat": 4,
 "nbformat_minor": 5
}
